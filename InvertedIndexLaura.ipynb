{
 "cells": [
  {
   "cell_type": "markdown",
   "metadata": {},
   "source": [
    "# Documenti e Parole #"
   ]
  },
  {
   "cell_type": "markdown",
   "metadata": {},
   "source": [
    "## Benvenuti nel laboratorio di analisi di documenti testuali! \n",
    "\n",
    "### Partiamo da lontano... Con la Matematica"
   ]
  },
  {
   "cell_type": "code",
   "execution_count": 1,
   "metadata": {},
   "outputs": [],
   "source": [
    "import numpy as np\n",
    "import matplotlib.pyplot as plt"
   ]
  },
  {
   "cell_type": "markdown",
   "metadata": {},
   "source": [
    "## Funzione logaritmo\n",
    "### \"il logaritmo di un numero in una data base è l'esponente al quale la base deve essere elevata per ottenere il numero stesso\"\n",
    "se $ b = a^c$, allora $c=log_a b$\n",
    "\n"
   ]
  },
  {
   "cell_type": "markdown",
   "metadata": {},
   "source": [
    "### Perchè è utile? Cresce \"lentamente\" all'aumentare dell'argomento.. Ma ci arriveremo"
   ]
  },
  {
   "cell_type": "code",
   "execution_count": 17,
   "metadata": {},
   "outputs": [
    {
     "data": {
      "text/plain": [
       "<matplotlib.legend.Legend at 0x7fb7f05c8d30>"
      ]
     },
     "execution_count": 17,
     "metadata": {},
     "output_type": "execute_result"
    },
    {
     "data": {
      "image/png": "[encoded data removed]",
      "text/plain": [
       "<Figure size 432x288 with 1 Axes>"
      ]
     },
     "metadata": {
      "needs_background": "light"
     },
     "output_type": "display_data"
    }
   ],
   "source": [
    "x = np.arange(0.1,10,0.1)\n",
    "x1 = [1,2,3,4,5,6,7]\n",
    "plt.plot(np.log2(x), label=\"base 2\")\n",
    "plt.plot(np.log10(x), label=\"base 10\")\n",
    "plt.plot(np.log(x), label=\"base e\")\n",
    "plt.grid()\n",
    "plt.legend()"
   ]
  },
  {
   "cell_type": "markdown",
   "metadata": {},
   "source": [
    "## Dato un documento, calcoliamo la frequenza di ogni parola"
   ]
  },
  {
   "cell_type": "code",
   "execution_count": 18,
   "metadata": {},
   "outputs": [],
   "source": [
    "doc1 = \"Al molo nuovo ci sono nove navi nuove, e la più nuova delle nove navi del molo nuove non vuole andare\"# complete here"
   ]
  },
  {
   "cell_type": "code",
   "execution_count": 19,
   "metadata": {},
   "outputs": [
    {
     "name": "stdout",
     "output_type": "stream",
     "text": [
      "Al molo nuovo ci sono nove navi nuove, e la più nuova delle nove navi del molo nuove non vuole andare\n"
     ]
    }
   ],
   "source": [
    "print(doc1)"
   ]
  },
  {
   "cell_type": "code",
   "execution_count": 26,
   "metadata": {},
   "outputs": [],
   "source": [
    "doc = doc1.split(\" \") # complete here "
   ]
  },
  {
   "cell_type": "code",
   "execution_count": 27,
   "metadata": {},
   "outputs": [
    {
     "name": "stdout",
     "output_type": "stream",
     "text": [
      "['Al', 'molo', 'nuovo', 'ci', 'sono', 'nove', 'navi', 'nuove,', 'e', 'la', 'più', 'nuova', 'delle', 'nove', 'navi', 'del', 'molo', 'nuove', 'non', 'vuole', 'andare']\n"
     ]
    }
   ],
   "source": [
    "print(doc)"
   ]
  },
  {
   "cell_type": "code",
   "execution_count": 37,
   "metadata": {},
   "outputs": [
    {
     "name": "stdout",
     "output_type": "stream",
     "text": [
      "{'Al': 1, 'molo': 2, 'nuovo': 1, 'ci': 1, 'sono': 1, 'nove': 2, 'navi': 2, 'nuove,': 1, 'e': 1, 'la': 1, 'più': 1, 'nuova': 1, 'delle': 1, 'del': 1, 'nuove': 1, 'non': 1, 'vuole': 1, 'andare': 1}\n"
     ]
    }
   ],
   "source": [
    "cont = dict()\n",
    "\n",
    "for word in doc:\n",
    "    if word not in cont.keys():\n",
    "        cont[word] = 1\n",
    "    else:\n",
    "        cont[word]=cont[word]+1 # cont[word]+=1 \n",
    "\n",
    "print(cont)\n"
   ]
  },
  {
   "cell_type": "code",
   "execution_count": 38,
   "metadata": {},
   "outputs": [],
   "source": [
    "from collections import Counter"
   ]
  },
  {
   "cell_type": "code",
   "execution_count": 39,
   "metadata": {},
   "outputs": [],
   "source": [
    "freq = Counter(doc)"
   ]
  },
  {
   "cell_type": "code",
   "execution_count": 40,
   "metadata": {},
   "outputs": [
    {
     "name": "stdout",
     "output_type": "stream",
     "text": [
      "Counter({'molo': 2, 'nove': 2, 'navi': 2, 'Al': 1, 'nuovo': 1, 'ci': 1, 'sono': 1, 'nuove,': 1, 'e': 1, 'la': 1, 'più': 1, 'nuova': 1, 'delle': 1, 'del': 1, 'nuove': 1, 'non': 1, 'vuole': 1, 'andare': 1})\n"
     ]
    }
   ],
   "source": [
    "print(freq)"
   ]
  },
  {
   "cell_type": "code",
   "execution_count": 45,
   "metadata": {},
   "outputs": [
    {
     "data": {
      "text/plain": [
       "{'Al': 1,\n",
       " 'molo': 2,\n",
       " 'nuovo': 1,\n",
       " 'ci': 1,\n",
       " 'sono': 1,\n",
       " 'nove': 2,\n",
       " 'navi': 2,\n",
       " 'nuove,': 1,\n",
       " 'e': 1,\n",
       " 'la': 1,\n",
       " 'più': 1,\n",
       " 'nuova': 1,\n",
       " 'delle': 1,\n",
       " 'del': 1,\n",
       " 'nuove': 1,\n",
       " 'non': 1,\n",
       " 'vuole': 1,\n",
       " 'andare': 1}"
      ]
     },
     "execution_count": 45,
     "metadata": {},
     "output_type": "execute_result"
    }
   ],
   "source": [
    "dict(freq)"
   ]
  },
  {
   "cell_type": "markdown",
   "metadata": {},
   "source": [
    "## Ecco le frequenze, possiamo normalizzarle?\n",
    "\n",
    "### Normalizzare vuol dire portare ogni valore nell'intervallo $(0,1]$"
   ]
  },
  {
   "cell_type": "code",
   "execution_count": 48,
   "metadata": {},
   "outputs": [],
   "source": [
    "norm_freq = dict() # equivalently, norm_freq = {}\n",
    "\n",
    "length = len(doc) # equivalente a len(cont.keys()) ?? NO!\n",
    "\n",
    "for word in cont:\n",
    "    norm_freq[word]=cont[word]/length"
   ]
  },
  {
   "cell_type": "code",
   "execution_count": 49,
   "metadata": {},
   "outputs": [
    {
     "data": {
      "text/plain": [
       "{'Al': 0.047619047619047616,\n",
       " 'molo': 0.09523809523809523,\n",
       " 'nuovo': 0.047619047619047616,\n",
       " 'ci': 0.047619047619047616,\n",
       " 'sono': 0.047619047619047616,\n",
       " 'nove': 0.09523809523809523,\n",
       " 'navi': 0.09523809523809523,\n",
       " 'nuove,': 0.047619047619047616,\n",
       " 'e': 0.047619047619047616,\n",
       " 'la': 0.047619047619047616,\n",
       " 'più': 0.047619047619047616,\n",
       " 'nuova': 0.047619047619047616,\n",
       " 'delle': 0.047619047619047616,\n",
       " 'del': 0.047619047619047616,\n",
       " 'nuove': 0.047619047619047616,\n",
       " 'non': 0.047619047619047616,\n",
       " 'vuole': 0.047619047619047616,\n",
       " 'andare': 0.047619047619047616}"
      ]
     },
     "execution_count": 49,
     "metadata": {},
     "output_type": "execute_result"
    }
   ],
   "source": [
    "norm_freq"
   ]
  },
  {
   "cell_type": "markdown",
   "metadata": {},
   "source": [
    "## Sommiamo tutti i valori normalizzati. Che valore ci aspettiamo?"
   ]
  },
  {
   "cell_type": "code",
   "execution_count": null,
   "metadata": {},
   "outputs": [],
   "source": [
    "# complete here with the sum"
   ]
  },
  {
   "cell_type": "code",
   "execution_count": 54,
   "metadata": {},
   "outputs": [
    {
     "data": {
      "text/plain": [
       "1.0000000000000004"
      ]
     },
     "execution_count": 54,
     "metadata": {},
     "output_type": "execute_result"
    }
   ],
   "source": [
    "sum(norm_freq.values())"
   ]
  },
  {
   "cell_type": "markdown",
   "metadata": {},
   "source": [
    "## Documenti e Parole\n",
    "\n"
   ]
  },
  {
   "cell_type": "markdown",
   "metadata": {},
   "source": [
    "### Fissiamo un po' di terminologia\n",
    "\n",
    "1. Collection : Insieme di documenti\n",
    "2. Documento : Insieme di parole\n",
    "2. Parola : Sequenza di caratteri \n",
    "\n",
    "\n",
    "### Cerchiamo di rispondere alle seguenti domande\n",
    "\n",
    "Q1. Come possiamo cercare un documento in una collection? <br>\n",
    "Q2. Come possiamo cercare i documenti (all'interno di una collection) che contengono una parola? <br>\n",
    "Q3. Come possiamo ordinare per importanza i documenti restituiti dalla ricerca precedente? <br>\n",
    "\n"
   ]
  },
  {
   "cell_type": "markdown",
   "metadata": {},
   "source": [
    "## Q1. Come possiamo cercare un documento in una collection?"
   ]
  },
  {
   "cell_type": "code",
   "execution_count": 37,
   "metadata": {},
   "outputs": [
    {
     "name": "stdout",
     "output_type": "stream",
     "text": [
      "Collezioniamo idee\n",
      "\n",
      "\n",
      "Problemi\n"
     ]
    }
   ],
   "source": [
    "print('Collezioniamo idee')\n",
    "print('\\n')\n",
    "print('Problemi')"
   ]
  },
  {
   "cell_type": "markdown",
   "metadata": {},
   "source": [
    "## Q2. Come possiamo cercare i documenti (all'interno di una collection) che contengono una parola?"
   ]
  },
  {
   "cell_type": "code",
   "execution_count": 36,
   "metadata": {},
   "outputs": [
    {
     "name": "stdout",
     "output_type": "stream",
     "text": [
      "Collezioniamo idee\n",
      "\n",
      "\n",
      "Problemi\n"
     ]
    }
   ],
   "source": [
    "print('Collezioniamo idee')\n",
    "print('\\n')\n",
    "print('Problemi')"
   ]
  },
  {
   "cell_type": "markdown",
   "metadata": {},
   "source": [
    "## Q3. Come possiamo ordinare per importanza i documenti restituiti dalla ricerca precedente? "
   ]
  },
  {
   "cell_type": "code",
   "execution_count": 35,
   "metadata": {},
   "outputs": [
    {
     "name": "stdout",
     "output_type": "stream",
     "text": [
      "Collezioniamo idee\n",
      "\n",
      "\n",
      "Problemi\n"
     ]
    }
   ],
   "source": [
    "print('Collezioniamo idee')\n",
    "print('\\n')\n",
    "print('Problemi')"
   ]
  },
  {
   "cell_type": "code",
   "execution_count": null,
   "metadata": {},
   "outputs": [],
   "source": []
  },
  {
   "cell_type": "code",
   "execution_count": null,
   "metadata": {},
   "outputs": [],
   "source": []
  },
  {
   "cell_type": "code",
   "execution_count": 74,
   "metadata": {},
   "outputs": [],
   "source": [
    "import numpy as np"
   ]
  },
  {
   "cell_type": "code",
   "execution_count": 85,
   "metadata": {},
   "outputs": [],
   "source": [
    "a = np.arange(0,10,1)"
   ]
  },
  {
   "cell_type": "code",
   "execution_count": 84,
   "metadata": {
    "collapsed": true
   },
   "outputs": [
    {
     "name": "stdout",
     "output_type": "stream",
     "text": [
      "<class 'list'> [0, 1, 2, 3, 4, 5, 6, 7, 8, 9]\n"
     ]
    }
   ],
   "source": [
    "print(type(a), a)"
   ]
  },
  {
   "cell_type": "code",
   "execution_count": 86,
   "metadata": {},
   "outputs": [],
   "source": [
    "b = [i for i in range(10)]"
   ]
  },
  {
   "cell_type": "code",
   "execution_count": 83,
   "metadata": {
    "collapsed": true
   },
   "outputs": [
    {
     "name": "stdout",
     "output_type": "stream",
     "text": [
      "<class 'list'> [0, 1, 2, 3, 4, 5, 6, 7, 8, 9]\n"
     ]
    }
   ],
   "source": [
    "print(type(b), b)"
   ]
  },
  {
   "cell_type": "code",
   "execution_count": 87,
   "metadata": {
    "collapsed": true
   },
   "outputs": [
    {
     "data": {
      "text/plain": [
       "array([ True,  True,  True,  True,  True,  True,  True,  True,  True,\n",
       "        True])"
      ]
     },
     "execution_count": 87,
     "metadata": {},
     "output_type": "execute_result"
    }
   ],
   "source": [
    "a==b"
   ]
  },
  {
   "cell_type": "code",
   "execution_count": 89,
   "metadata": {
    "collapsed": true
   },
   "outputs": [
    {
     "data": {
      "text/plain": [
       "array([[0., 0., 0., 0., 0.],\n",
       "       [0., 0., 0., 0., 0.],\n",
       "       [0., 0., 0., 0., 0.],\n",
       "       [0., 0., 0., 0., 0.],\n",
       "       [0., 0., 0., 0., 0.]])"
      ]
     },
     "execution_count": 89,
     "metadata": {},
     "output_type": "execute_result"
    }
   ],
   "source": [
    "np.zeros([5,5])"
   ]
  },
  {
   "cell_type": "code",
   "execution_count": 90,
   "metadata": {
    "collapsed": true
   },
   "outputs": [
    {
     "data": {
      "text/plain": [
       "array([[1., 1., 1., 1., 1.],\n",
       "       [1., 1., 1., 1., 1.],\n",
       "       [1., 1., 1., 1., 1.],\n",
       "       [1., 1., 1., 1., 1.],\n",
       "       [1., 1., 1., 1., 1.]])"
      ]
     },
     "execution_count": 90,
     "metadata": {},
     "output_type": "execute_result"
    }
   ],
   "source": [
    "np.ones([5,5])"
   ]
  },
  {
   "cell_type": "code",
   "execution_count": 103,
   "metadata": {},
   "outputs": [],
   "source": [
    "matrix = np.zeros([len(a), len(b)])"
   ]
  },
  {
   "cell_type": "code",
   "execution_count": 104,
   "metadata": {},
   "outputs": [],
   "source": [
    "for i,_ in enumerate(a):\n",
    "    for j,_ in enumerate(b):\n",
    "        matrix[i][j]=i*j"
   ]
  },
  {
   "cell_type": "code",
   "execution_count": 105,
   "metadata": {
    "collapsed": true
   },
   "outputs": [
    {
     "data": {
      "text/plain": [
       "array([[ 0.,  0.,  0.,  0.,  0.,  0.,  0.,  0.,  0.,  0.],\n",
       "       [ 0.,  1.,  2.,  3.,  4.,  5.,  6.,  7.,  8.,  9.],\n",
       "       [ 0.,  2.,  4.,  6.,  8., 10., 12., 14., 16., 18.],\n",
       "       [ 0.,  3.,  6.,  9., 12., 15., 18., 21., 24., 27.],\n",
       "       [ 0.,  4.,  8., 12., 16., 20., 24., 28., 32., 36.],\n",
       "       [ 0.,  5., 10., 15., 20., 25., 30., 35., 40., 45.],\n",
       "       [ 0.,  6., 12., 18., 24., 30., 36., 42., 48., 54.],\n",
       "       [ 0.,  7., 14., 21., 28., 35., 42., 49., 56., 63.],\n",
       "       [ 0.,  8., 16., 24., 32., 40., 48., 56., 64., 72.],\n",
       "       [ 0.,  9., 18., 27., 36., 45., 54., 63., 72., 81.]])"
      ]
     },
     "execution_count": 105,
     "metadata": {},
     "output_type": "execute_result"
    }
   ],
   "source": [
    "matrix"
   ]
  },
  {
   "cell_type": "code",
   "execution_count": null,
   "metadata": {},
   "outputs": [],
   "source": []
  }
 ],
 "metadata": {
  "kernelspec": {
   "display_name": "Python 3",
   "language": "python",
   "name": "python3"
  },
  "language_info": {
   "codemirror_mode": {
    "name": "ipython",
    "version": 3
   },
   "file_extension": ".py",
   "mimetype": "text/x-python",
   "name": "python",
   "nbconvert_exporter": "python",
   "pygments_lexer": "ipython3",
   "version": "3.7.3"
  }
 },
 "nbformat": 4,
 "nbformat_minor": 2
}
